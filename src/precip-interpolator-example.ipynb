{
 "cells": [
  {
   "cell_type": "markdown",
   "metadata": {},
   "source": [
    "***Sample Automated workflow for Interpolating precipitation across the range!***\n",
    "Nicole Kaplan, July 30, 2020"
   ]
  },
  {
   "cell_type": "markdown",
   "metadata": {
    "toc": true
   },
   "source": [
    "<h1>Table of Contents<span class=\"tocSkip\"></span></h1>\n",
    "<div class=\"toc\"><ul class=\"toc-item\"><li><span><a href=\"#Import-packages-and-establish-working-directory\" data-toc-modified-id=\"Import-packages-and-establish-working-directory-1\"><span class=\"toc-item-num\">1&nbsp;&nbsp;</span>Import packages and establish working directory</a></span></li><li><span><a href=\"#Functions\" data-toc-modified-id=\"Functions-2\"><span class=\"toc-item-num\">2&nbsp;&nbsp;</span>Functions</a></span><ul class=\"toc-item\"><li><span><a href=\"#Inverse-Distance-Weighting\" data-toc-modified-id=\"Inverse-Distance-Weighting-2.1\"><span class=\"toc-item-num\">2.1&nbsp;&nbsp;</span>Inverse Distance Weighting</a></span></li><li><span><a href=\"#Classification\" data-toc-modified-id=\"Classification-2.2\"><span class=\"toc-item-num\">2.2&nbsp;&nbsp;</span>Classification</a></span></li></ul></li><li><span><a href=\"#Get-Vector-Data-For-Points-and-Pastures\" data-toc-modified-id=\"Get-Vector-Data-For-Points-and-Pastures-3\"><span class=\"toc-item-num\">3&nbsp;&nbsp;</span>Get Vector Data For Points and Pastures</a></span></li><li><span><a href=\"#Get-Flagged-Precipitation-Data\" data-toc-modified-id=\"Get-Flagged-Precipitation-Data-4\"><span class=\"toc-item-num\">4&nbsp;&nbsp;</span>Get Flagged Precipitation Data</a></span></li><li><span><a href=\"#Subset-and-resample-data\" data-toc-modified-id=\"Subset-and-resample-data-5\"><span class=\"toc-item-num\">5&nbsp;&nbsp;</span>Subset and resample data</a></span><ul class=\"toc-item\"><li><span><a href=\"#Convert-rainfall-to-inches\" data-toc-modified-id=\"Convert-rainfall-to-inches-5.1\"><span class=\"toc-item-num\">5.1&nbsp;&nbsp;</span>Convert rainfall to inches</a></span></li><li><span><a href=\"#Explore-data-Frequency\" data-toc-modified-id=\"Explore-data-Frequency-5.2\"><span class=\"toc-item-num\">5.2&nbsp;&nbsp;</span>Explore data Frequency</a></span></li></ul></li><li><span><a href=\"#Generate-np-Arrays-as-Input-into-IDW-Function\" data-toc-modified-id=\"Generate-np-Arrays-as-Input-into-IDW-Function-6\"><span class=\"toc-item-num\">6&nbsp;&nbsp;</span>Generate np Arrays as Input into IDW Function</a></span></li><li><span><a href=\"#Run-IDW-and-Classification-Functions\" data-toc-modified-id=\"Run-IDW-and-Classification-Functions-7\"><span class=\"toc-item-num\">7&nbsp;&nbsp;</span>Run IDW and Classification Functions</a></span></li><li><span><a href=\"#Plot-PPT-IDW-Results\" data-toc-modified-id=\"Plot-PPT-IDW-Results-8\"><span class=\"toc-item-num\">8&nbsp;&nbsp;</span>Plot PPT IDW Results</a></span></li></ul></div>"
   ]
  },
  {
   "cell_type": "markdown",
   "metadata": {},
   "source": [
    "# Import packages and establish working directory"
   ]
  },
  {
   "cell_type": "code",
   "execution_count": 1,
   "metadata": {},
   "outputs": [],
   "source": [
    "# Import Packages\n",
    "import os\n",
    "import math\n",
    "import numpy as np\n",
    "import pandas as pd\n",
    "import geopandas as gpd\n",
    "from scipy.spatial import cKDTree\n",
    "from datetime import datetime\n",
    "import matplotlib.pyplot as plt\n",
    "from matplotlib.colors import ListedColormap\n",
    "from matplotlib import colors\n",
    "import earthpy as et\n",
    "import earthpy.plot as ep"
   ]
  },
  {
   "cell_type": "code",
   "execution_count": 2,
   "metadata": {},
   "outputs": [],
   "source": [
    "# Set working directory\n",
    "wd_path = os.path.join(et.io.HOME, 'ea_python_spatial', 'Final_Project', 'precip-interpolator', 'data')\n",
    "if not os.path.exists(wd_path):\n",
    "    os.mkdir(wd_path)    \n",
    "    \n",
    "os.chdir(wd_path)\n",
    "\n",
    "# Create output folder\n",
    "output_path = os.path.join(\"output_maps\")\n",
    "\n",
    "if not os.path.exists(output_path):\n",
    "    os.mkdir(output_path)  "
   ]
  },
  {
   "cell_type": "markdown",
   "metadata": {},
   "source": [
    "# Functions\n",
    "## Inverse Distance Weighting"
   ]
  },
  {
   "cell_type": "code",
   "execution_count": 3,
   "metadata": {},
   "outputs": [],
   "source": [
    "# Class containing functions for inverse distance weighing\n",
    "\n",
    "\"\"\"\n",
    "    Inverse distance weighting (IDW)\n",
    "    --------------------------------\n",
    "\n",
    "    Compute the score of query points based on the scores of their k-nearest neighbours,\n",
    "    weighted by the inverse of their distances.\n",
    "\n",
    "    @reference:\n",
    "    https://en.wikipedia.org/wiki/Inverse_distance_weighting\n",
    "\n",
    "    Arguments:\n",
    "    ----------\n",
    "        X: (N, d) ndarray\n",
    "            Coordinates of N sample points in a d-dimensional space.\n",
    "        z: (N,) ndarray\n",
    "            Corresponding scores.\n",
    "        leafsize: int (default 10)\n",
    "            Leafsize of KD-tree data structure;\n",
    "            should be less than 20.\n",
    "\n",
    "    Returns:\n",
    "    --------\n",
    "        tree instance: object\n",
    "        \n",
    "    Notes:\n",
    "    --------\n",
    "    Wrapper around ___intit____().\n",
    "    \n",
    "   \"\"\"\n",
    "\n",
    "\n",
    "class tree(object):  # use tree as the name of the function\n",
    "    def __init__(self, X=None, z=None, leafsize=20):\n",
    "        if not X is None:\n",
    "            self.tree = cKDTree(X, leafsize=leafsize)\n",
    "        if not z is None:\n",
    "            self.z = np.array(z)\n",
    "\n",
    "    def fit(self, X=None, z=None, leafsize=10):\n",
    "\n",
    "        return self.__init__(X, z, leafsize)\n",
    "\n",
    "    def __call__(self, X, k=6, eps=1e-6, p=2, regularize_by=1e-9):\n",
    "\n",
    "        self.distances, self.idx = self.tree.query(X, k, eps=eps, p=p)\n",
    "        self.distances += regularize_by\n",
    "        weights = self.z[self.idx.ravel()].reshape(self.idx.shape)\n",
    "        mw = np.sum(weights/self.distances, axis=1) / \\\n",
    "            np.sum(1./self.distances, axis=1)\n",
    "\n",
    "        return mw\n",
    "\n",
    "    def transform(self, X, k=6, p=2, eps=1e-6, regularize_by=1e-9):\n",
    "        return self.__call__(X, k, eps, p, regularize_by)"
   ]
  },
  {
   "cell_type": "markdown",
   "metadata": {},
   "source": [
    "## Classification"
   ]
  },
  {
   "cell_type": "code",
   "execution_count": 4,
   "metadata": {},
   "outputs": [],
   "source": [
    "def classify(to_class_arr, class_list):\n",
    "    \"\"\"\n",
    "    Function classifies numpy arrays using classes defined\n",
    "\n",
    "    Parameters\n",
    "    ----------\n",
    "    to_class_arr : numpy arr\n",
    "        arrays that need to be classified\n",
    "\n",
    "    Returns\n",
    "    ------\n",
    "    classified_arr : numpy arr\n",
    "        arrays with classified values\n",
    "\n",
    "    \"\"\"\n",
    "    # Calculate classes of precipitation amount\n",
    "    class_bins = class_list\n",
    "    classified_arr = np.digitize(to_class_arr, class_bins)\n",
    "\n",
    "    return classified_arr"
   ]
  },
  {
   "cell_type": "markdown",
   "metadata": {},
   "source": [
    "# Get Vector Data For Points and Pastures"
   ]
  },
  {
   "cell_type": "code",
   "execution_count": 5,
   "metadata": {},
   "outputs": [],
   "source": [
    "# Get shape files and pasture boundaries\n",
    "pasture_path = os.path.join(\"input\", \"cper_pastures_2017_clip.shp\")\n",
    "pasture_org = gpd.read_file(pasture_path)\n",
    "AGM_trt = pasture_org[pasture_org['Treatment'].isin([\"AGM\"])]\n",
    "\n",
    "# Get shape files for site\n",
    "cper_bndy_path = os.path.join(\"input\", \"CPERBody.shp\")\n",
    "cper_bndy = gpd.read_file(cper_bndy_path)\n",
    "cper_bounds = cper_bndy.bounds\n",
    "\n",
    "# Get locations for ppt gauges\n",
    "ppt_xy_path = os.path.join(\"input\", \"ppt_locations.csv\")\n",
    "ppt_xy = pd.read_csv(ppt_xy_path)\n",
    "ppt_xy_sort = ppt_xy.sort_values(by=['pasture'], ascending=True)\n",
    "\n",
    "extent = (517624.84375, 527273.75, 4514740.5, 4524361.0)"
   ]
  },
  {
   "cell_type": "markdown",
   "metadata": {},
   "source": [
    "# Get Flagged Precipitation Data"
   ]
  },
  {
   "cell_type": "code",
   "execution_count": 6,
   "metadata": {},
   "outputs": [],
   "source": [
    "# read in abiotic data as dataframes\n",
    "ppt_path = os.path.join('input', \"flagged_ppt_sample.csv\") \n",
    "\n",
    "df_ppt = pd.read_csv(ppt_path, parse_dates=['date'], delimiter = \",\", usecols = (5,6,8,10,11,12))\n",
    "df_ppt.rename(columns={'raw.value': 'raw_value', 'raw.measurement' : 'raw_measurement'}, inplace=True)\n",
    "df_ppt['date'] = pd.to_datetime( df_ppt['date'], format='%Y-%m-%d')"
   ]
  },
  {
   "cell_type": "markdown",
   "metadata": {},
   "source": [
    "# Subset and resample data "
   ]
  },
  {
   "cell_type": "code",
   "execution_count": 8,
   "metadata": {},
   "outputs": [],
   "source": [
    "# get last date in the dataset\n",
    "date2 = (df_ppt['date'].max()) \n",
    "date1 = date2 - pd.offsets.Day(3)\n",
    "\n",
    "# filter ppt data for range and resample\n",
    "df_ppt_range = df_ppt.loc[(\n",
    "    df_ppt['date'] > date1) & (df_ppt['date'] < date2)]\n",
    "df_ppt_range = df_ppt.sort_values(by=['site'], ascending=True)\n",
    "\n",
    "#merge dataframe and cumulative sum for each site\n",
    "df_merged = pd.merge(df_ppt_range, ppt_xy[[\"pasture\", \"Easting_UTM\", \"Northing_UTM\"]], \n",
    "                     left_on=\"site\", right_on=\"pasture\", how=\"left\")\n",
    "df_ppt_wks = df_merged.groupby([\"site\"])['raw_value'].sum()\n",
    "\n",
    "# Get coordinates for sample location\n",
    "df_xy = df_merged.groupby([\"site\"]).first()\n",
    "df_xy = df_xy[[\"Easting_UTM\", \"Northing_UTM\"]]"
   ]
  },
  {
   "cell_type": "markdown",
   "metadata": {},
   "source": [
    "## Convert rainfall to inches"
   ]
  },
  {
   "cell_type": "code",
   "execution_count": 10,
   "metadata": {},
   "outputs": [],
   "source": [
    "# Convert pandas column in dataframe from mm to inches\n",
    "df_ppt_wks = df_ppt_wks / 25.4"
   ]
  },
  {
   "cell_type": "markdown",
   "metadata": {},
   "source": [
    "## Explore data Frequency"
   ]
  },
  {
   "cell_type": "code",
   "execution_count": 11,
   "metadata": {},
   "outputs": [
    {
     "data": {
      "image/png": "[encoded data removed]",
      "text/plain": [
       "<Figure size 864x648 with 1 Axes>"
      ]
     },
     "metadata": {
      "needs_background": "light"
     },
     "output_type": "display_data"
    }
   ],
   "source": [
    "# Histogram of 21 day rainfall \n",
    "fig, ax1 = plt.subplots(figsize=(12,9))\n",
    "fig.subplots_adjust(hspace=.6)\n",
    "df_ppt_wks.hist(ax=ax1,  bins=6, color=\"lightblue\")\n",
    "ax1.set(xlabel=\"3 day rain total (in)\",\n",
    "        ylabel=\"number of occurences\", \n",
    "        title=\" Rainfall for the last 3 weeks on the CPER from\\n \"  +str(date1)+ \" to \" +str(date2))\n",
    "ax1.text(0, -.05, 'Source: USDA CPER LTAR', transform=ax1.transAxes, fontsize=8)\n",
    "\n",
    "plt.suptitle('Frequency Histograms of Data', fontsize=18)\n",
    "plt.show()"
   ]
  },
  {
   "cell_type": "markdown",
   "metadata": {},
   "source": [
    "# Generate np Arrays as Input into IDW Function"
   ]
  },
  {
   "cell_type": "code",
   "execution_count": 12,
   "metadata": {},
   "outputs": [],
   "source": [
    "# Convert data to numpy array\n",
    "ar_ppt_wks = df_ppt_wks.to_numpy()\n",
    "ppt_xy_list = df_xy.to_numpy()"
   ]
  },
  {
   "cell_type": "markdown",
   "metadata": {},
   "source": [
    "# Run IDW and Classification Functions"
   ]
  },
  {
   "cell_type": "code",
   "execution_count": 13,
   "metadata": {},
   "outputs": [],
   "source": [
    "# Create grid from CPER boundary\n",
    "spacing_x = np.linspace(517624.84375, 527273.75, 40)\n",
    "spacing_y = np.linspace(4514740.5, 4524361.0, 40)\n",
    "X2 = np.meshgrid(spacing_x, spacing_y)\n",
    "X2 = np.reshape(X2, (2, -1)).T"
   ]
  },
  {
   "cell_type": "code",
   "execution_count": 14,
   "metadata": {},
   "outputs": [],
   "source": [
    "# Assign data to be interpolated for one date\n",
    "X = np.reshape(ppt_xy_list, (2, -1)).T  # site points as array"
   ]
  },
  {
   "cell_type": "code",
   "execution_count": 15,
   "metadata": {},
   "outputs": [],
   "source": [
    "# Run function and return list of interpolated dataframes for tri-weekly precipitation\n",
    "season_list_ppt = [-np.inf, .025, .05, .06, .07, .08, .09, .10, np.inf]\n",
    "\n",
    "z = np.array(df_ppt_wks)  # values as array\n",
    "model = tree(X, z)\n",
    "model.fit()\n",
    "results = model.transform(X2)\n",
    "\n",
    "\n",
    "ppt_season_class = classify(results, season_list_ppt)\n",
    "idw = np.column_stack((results, X2, ppt_season_class))\n",
    "\n",
    "## Plot IDW instead of idw_df_season\n",
    "idw_df_season = gpd.GeoDataFrame(idw, geometry=gpd.points_from_xy(idw[:, 1], idw[:, 2]))"
   ]
  },
  {
   "cell_type": "markdown",
   "metadata": {},
   "source": [
    "# Plot PPT IDW Results"
   ]
  },
  {
   "cell_type": "code",
   "execution_count": 16,
   "metadata": {},
   "outputs": [],
   "source": [
    "# Reshape array for plotting\n",
    "values_ppt = [1,2,3,4,5,6,7] \n",
    "values_arr = idw[:, 3]\n",
    "arr = values_arr.reshape(int(math.sqrt(values_arr.shape[0])), int(math.sqrt(values_arr.shape[0])))\n",
    "arr_plt = np.flipud(arr)"
   ]
  },
  {
   "cell_type": "code",
   "execution_count": 17,
   "metadata": {},
   "outputs": [],
   "source": [
    "# Create labels and colors for map\n",
    "ppt_cat_names = [\".025-.05\", \".05-.06\", \".06-.07\", \".07-.08\", \".08-.09\", \".09-.10\", \">.10\"]\n",
    "ppt_colors = [\"white\", \"lightcyan\", \"paleturquoise\", \"skyblue\", \"lightsteelblue\", \"mediumslateblue\", \"mediumorchid\"]\n",
    "ppt_cmap = ListedColormap(ppt_colors)"
   ]
  },
  {
   "cell_type": "code",
   "execution_count": 18,
   "metadata": {},
   "outputs": [
    {
     "data": {
      "image/png": "[encoded data removed]",
      "text/plain": [
       "<Figure size 720x576 with 1 Axes>"
      ]
     },
     "metadata": {
      "needs_background": "light"
     },
     "output_type": "display_data"
    }
   ],
   "source": [
    "# Plot the data with a custom legend\n",
    "fig, ax = plt.subplots(figsize=(10, 8))\n",
    "im = ax.imshow(arr_plt,\n",
    "               cmap=ppt_cmap,\n",
    "               vmin=1,\n",
    "               vmax=7,\n",
    "               extent=extent)\n",
    "\n",
    "ep.draw_legend(im,\n",
    "               classes=values_ppt,\n",
    "               titles=ppt_cat_names)\n",
    "\n",
    "cper_bndy.plot(alpha=1, ax=ax, color=\"none\", edgecolor=\"black\", linewidth=1)\n",
    "ax2 = AGM_trt.plot(alpha=1, ax=ax, color=\"none\", edgecolor=\"black\", linewidth=1)\n",
    "AGM_trt.apply(lambda x: ax2.annotate(s=x.CARM_Name, xy=x.geometry.centroid.coords[0], \n",
    "                                     ha='center', fontsize=8, color=\"black\", fontweight='bold'),axis=1)\n",
    "\n",
    "ax.set_title(\"Inches of Rain Received on CPER From \\n\" +str(date1)+ \" to \" +str(date2), fontsize=12)\n",
    "\n",
    "ax.text(0, -.05, 'Data Source: USDA ARS', transform=ax.transAxes, fontsize=8)\n",
    "\n",
    "ax.set_axis_off()\n",
    "\n",
    "filepath = os.path.join(output_path, \"interpolated_ppt.jpg\")\n",
    "plt.savefig(filepath, dpi=300)"
   ]
  }
 ],
 "metadata": {
  "kernelspec": {
   "display_name": "Python 3",
   "language": "python",
   "name": "python3"
  },
  "language_info": {
   "codemirror_mode": {
    "name": "ipython",
    "version": 3
   },
   "file_extension": ".py",
   "mimetype": "text/x-python",
   "name": "python",
   "nbconvert_exporter": "python",
   "pygments_lexer": "ipython3",
   "version": "3.7.6"
  },
  "toc": {
   "base_numbering": 1,
   "nav_menu": {},
   "number_sections": true,
   "sideBar": true,
   "skip_h1_title": false,
   "title_cell": "Table of Contents",
   "title_sidebar": "Contents",
   "toc_cell": true,
   "toc_position": {
    "height": "calc(100% - 180px)",
    "left": "10px",
    "top": "150px",
    "width": "315.813px"
   },
   "toc_section_display": true,
   "toc_window_display": true
  }
 },
 "nbformat": 4,
 "nbformat_minor": 4
}
